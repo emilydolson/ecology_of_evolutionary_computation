{
 "cells": [
  {
   "cell_type": "code",
   "execution_count": null,
   "metadata": {
    "slideshow": {
     "slide_type": "skip"
    }
   },
   "outputs": [],
   "source": []
  },
  {
   "cell_type": "code",
   "execution_count": 25,
   "metadata": {
    "slideshow": {
     "slide_type": "notes"
    }
   },
   "outputs": [],
   "source": [
    "\n",
    "# <link rel=\"stylesheet\" href=\"https://stackpath.bootstrapcdn.com/bootstrap/4.1.0/css/bootstrap.min.css\" integrity=\"sha384-9gVQ4dYFwwWSjIDZnLEWnxCjeSWFphJiwGPXr1jddIhOegiu1FwO5qRGvFXOdJZ4\" crossorigin=\"anonymous\">\n",
    "# <script src=\"https://code.jquery.com/jquery-3.3.1.slim.min.js\" integrity=\"sha384-q8i/X+965DzO0rT7abK41JStQIAqVgRVzpbzo5smXKp4YfRvH+8abtTE1Pi6jizo\" crossorigin=\"anonymous\"></script>\n",
    "# <script src=\"https://cdnjs.cloudflare.com/ajax/libs/popper.js/1.14.0/umd/popper.min.js\" integrity=\"sha384-cs/chFZiN24E4KMATLdqdvsezGxaGsi4hLGOzlXwp5UZB1LY//20VyM2taTB4QvJ\" crossorigin=\"anonymous\"></script>\n",
    "# <script src=\"https://stackpath.bootstrapcdn.com/bootstrap/4.1.0/js/bootstrap.min.js\" integrity=\"sha384-uefMccjFJAIv6A+rW+L4AHf99KvxDjWSu1z9VI8SKNVmz4sk7buKt/6v9KI65qnm\" crossorigin=\"anonymous\"></script>"
   ]
  },
  {
   "cell_type": "markdown",
   "metadata": {
    "slideshow": {
     "slide_type": "slide"
    }
   },
   "source": [
    "# Ecological Communities \n",
    "# in\n",
    "# Evolutionary Computation\n",
    "\n",
    "### By Emily Dolson and Charles Ofria\n",
    "<br><br>\n",
    "<p style=\"text-align:center;position:fixed;bottom:0px\"><i class=\"fab fa-twitter\"></i>@emilyldolson &nbsp;&nbsp;&nbsp;&nbsp;\n",
    "            <i class=\"fas fa-envelope\"></i>dolsonem@msu.edu</p>"
   ]
  },
  {
   "cell_type": "code",
   "execution_count": 26,
   "metadata": {
    "hideCode": true,
    "hidePrompt": true,
    "slideshow": {
     "slide_type": "skip"
    }
   },
   "outputs": [
    {
     "data": {
      "text/latex": [
       "$x^2$"
      ],
      "text/plain": [
       "<IPython.core.display.Latex object>"
      ]
     },
     "metadata": {},
     "output_type": "display_data"
    }
   ],
   "source": [
    "%%latex\n",
    "$x^2$"
   ]
  },
  {
   "cell_type": "code",
   "execution_count": 27,
   "metadata": {
    "hideCode": false,
    "hidePrompt": false,
    "slideshow": {
     "slide_type": "notes"
    }
   },
   "outputs": [],
   "source": [
    "import pandas as pd\n",
    "import seaborn as sns\n",
    "import matplotlib\n",
    "import matplotlib.pyplot as plt\n",
    "from mpl_toolkits.axes_grid1 import AxesGrid\n",
    "import numpy as np\n",
    "from numpy import ma\n",
    "import scipy as sp\n",
    "from __future__ import print_function\n",
    "from ipywidgets import interact, interactive, fixed, interact_manual\n",
    "import ipywidgets as widgets\n",
    "import itertools\n",
    "import math\n",
    "import random\n",
    "import networkx as nx\n",
    "\n",
    "%matplotlib inline"
   ]
  },
  {
   "cell_type": "markdown",
   "metadata": {
    "slideshow": {
     "slide_type": "slide"
    }
   },
   "source": [
    "## Evolutionary Computation\n",
    "<div class=\"container\">\n",
    "    <img src=\"evolution.gif\" alt=\"Evolving bipedal walking\" width=100%/> \n",
    "\n",
    "    <p style=text-align:center>Using evolution as a machine learning algorithm</p>\n",
    "    <p class=\"image_credit\">Image credit: <a href=\"https://www.alanzucconi.com\">Alan Zucconi</a></p>\n",
    "</div>"
   ]
  },
  {
   "cell_type": "markdown",
   "metadata": {
    "slideshow": {
     "slide_type": "slide"
    }
   },
   "source": [
    "## Evolutionary Computation Works\n",
    "<div class=\"container\">\n",
    "    \n",
    "    <img class=\"mx-auto\" src=\"antenna.jpg\" alt=\"Evolved antenna\"/> \n",
    "\n",
    "    <p style=text-align:center>Antenna evolved for NASA</p>\n",
    "    <p class=\"image_credit\">Hornby et al, 2008</p>\n",
    "</div>"
   ]
  },
  {
   "cell_type": "markdown",
   "metadata": {
    "slideshow": {
     "slide_type": "slide"
    }
   },
   "source": [
    "## But it requires a diverse population\n",
    "<div class=\"container\">\n",
    "    \n",
    "    <img class=\"mx-auto\" src=\"static_landscape.gif\" alt=\"Evolution converges on a single peak\" width=100%/> \n",
    "\n",
    "    <p style=text-align:center>Populations can get stuck on part of the fitness landscape and not explore the rest</p>\n",
    "    <p class=\"image_credit\">Image credit: Bjorn Ostman and Randy Olson</p>\n",
    "</div>"
   ]
  },
  {
   "cell_type": "markdown",
   "metadata": {
    "slideshow": {
     "slide_type": "slide"
    }
   },
   "source": [
    "## Diversity maintenance techniques\n",
    "<div class=\"container\">\n",
    "    \n",
    "    <img class=\"mx-auto\" src=\"diversity_maintenance.png\" alt=\"Map of selected diversity maintenace schemes\" width=100%/> \n",
    "\n",
    "    <p style=text-align:center>There are a lot of them. Most involve creating ecological interactions.</p>\n",
    "\n",
    "</div>"
   ]
  },
  {
   "cell_type": "markdown",
   "metadata": {
    "slideshow": {
     "slide_type": "slide"
    }
   },
   "source": [
    "## Fitness sharing\n",
    "\n",
    "<div class=\"container\">\n",
    "  \n",
    "    $$sh(d) =    \\begin{cases}\n",
    "      1 - (\\frac{d}{\\sigma_{\\text{share}}})^{\\alpha} & d < \\sigma_{\\text{share}}\\\\\n",
    "      0 &  d \\geq \\sigma_{\\text{share}}  \n",
    "   \\end{cases}$$\n",
    "   \n",
    "   <p style=text-align:center>Decrease solutions' fitness based on quantity of similar organisms in the population</p>\n",
    "\n",
    "    <p class=\"image_credit\">Goldberg and Richardson, 1987</p>\n",
    "    \n",
    "</div>"
   ]
  },
  {
   "cell_type": "markdown",
   "metadata": {
    "slideshow": {
     "slide_type": "slide"
    }
   },
   "source": [
    "## Fitness sharing\n",
    "\n",
    "<div class=\"container\">\n",
    "    \n",
    "    <img class=\"mx-auto\" src=\"finches.jpg\" alt=\"Picture of Darwin's finches\" width=50%/> \n",
    "\n",
    "    <p style=text-align:center>The population partitions the genotype/phenotype space in the same way that species in nature partition resources</p>\n",
    "    <p class=\"image_credit\">Image credit: Charles Darwin</p>\n",
    "\n",
    "</div>"
   ]
  },
  {
   "cell_type": "markdown",
   "metadata": {
    "slideshow": {
     "slide_type": "slide"
    }
   },
   "source": [
    "## Eco-EA\n",
    "<div class=\"container\">\n",
    "\n",
    "<p style=\"text-align:center\">Associates sub-components of a problem with limited resources</a>\n",
    "\n",
    "</div>\n",
    "\n",
    "<p class=\"image_credit\">Goings and Ofria, 2012</p>\n"
   ]
  },
  {
   "cell_type": "code",
   "execution_count": 41,
   "metadata": {
    "hideCode": false,
    "hidePrompt": true,
    "slideshow": {
     "slide_type": "notes"
    }
   },
   "outputs": [],
   "source": [
    "def make_zngis(org_1_res_1=.5, org_1_res_2=1.0, org_2_res_1=1.0, org_2_res_2=.5):\n",
    "    X, Y = np.meshgrid(np.arange(0, 1000, 200), np.arange(0, 1000, 200))\n",
    "    U = -.0025*(org_1_res_2)*X -.0025*(org_2_res_2)*X \n",
    "    V = -.0025*(org_1_res_1)*Y - .0025*(org_2_res_1)*Y \n",
    "    plt.plot([0, 800*org_1_res_1], [800*org_1_res_2, 0])\n",
    "    plt.plot([0, 800*org_2_res_1], [800*org_2_res_2, 0])\n",
    "    Q = plt.quiver(X, Y, U, V, units='width')\n",
    "\n",
    "\n",
    "style = {'description_width': 'initial'}\n",
    "layout = widgets.Layout(\n",
    "    display='flex',\n",
    "    flex_flow='row',\n",
    "    flex_grow=1,\n",
    "    justify_content='space-between'\n",
    ")\n",
    "\n",
    "a = widgets.FloatSlider(layout=layout, description = \"Species 1 resource 1 use\", style=style, min=0, max=1, value=.5, orientation=\"horizontal\")\n",
    "b = widgets.FloatSlider(layout=layout, description = \"Species 1 resource 2 use\", style=style, min=0, max=1, value=1.0, orientation=\"horizontal\")\n",
    "c = widgets.FloatSlider(layout=layout, description = \"Species 2 resource 1 use\", style=style, min=0, max=1, value=1.0, orientation=\"horizontal\")\n",
    "d = widgets.FloatSlider(layout=layout, description = \"Species 2 resource 2 use\", style=style, min=0, max=1, value=.5, orientation=\"horizontal\")\n",
    "ui = widgets.VBox([a, b, c, d], layout=widgets.Layout(\n",
    "    display='flex',\n",
    "    flex_grow = 1,\n",
    "    align_items='stretch',\n",
    "#     width='50%'\n",
    "))\n",
    "\n",
    "# widgets.HBox([widgets.VBox([a, b, c]), out])\n",
    "\n",
    "# w.layout.width = \"50%\"\n",
    "# w1.layout.display = \"flex\"\n",
    "# w.layout.border = '1px solid black'\n",
    "# w1.layout.flex_grow = 1\n",
    "# w.layout.flex_flow = \"column wrap\"\n",
    "\n",
    "# ui.layout.justify_content = \"center\"\n",
    "# ui.layout.align_items = \"stretch\"\n"
   ]
  },
  {
   "cell_type": "code",
   "execution_count": 44,
   "metadata": {
    "hideCode": false,
    "hidePrompt": true
   },
   "outputs": [
    {
     "data": {
      "image/png": "[encoded data removed]",
      "text/plain": [
       "<matplotlib.figure.Figure at 0x7f523a887ac8>"
      ]
     },
     "metadata": {},
     "output_type": "display_data"
    }
   ],
   "source": [
    "# w1 = widgets.interactive_output(make_zngis, {\"org_1_res_1\":a, \"org_1_res_2\":b, \"org_2_res_1\":c, \"org_2_res_2\":d})\n",
    "\n",
    "# widgets.HBox([w1, ui], layout=widgets.Layout(align_items=\"center\", justify_content=\"center\"))\n",
    "\n",
    "make_zngis()"
   ]
  },
  {
   "cell_type": "markdown",
   "metadata": {},
   "source": [
    "<div class=\"container\">\n",
    "    <p style=\"text-align:center\">Community is governed by standard resource-competition theory</p>\n",
    "</div>\n"
   ]
  },
  {
   "cell_type": "markdown",
   "metadata": {
    "slideshow": {
     "slide_type": "slide"
    }
   },
   "source": [
    "## Lexicase selection\n",
    "\n",
    "\n",
    "<div class=\"container\">\n",
    "    <p style=\"text-align:center\">Populations are evaluated on N criteria in a random order. Best are kept at each step until 1 remains.</p>\n",
    "    <div class=\"row\">\n",
    "        <div class=\"col\">\n",
    "            \n",
    "            <h4 style=\"text-align:center\">Example population</h4>\n",
    "            <table class=\"table mx-auto\" style=\"width:50%\">\n",
    "              <thead>\n",
    "                <tr>\n",
    "                  <th scope=\"col\">id</th>\n",
    "                  <th scope=\"col\">A</th>\n",
    "                  <th scope=\"col\">B</th>\n",
    "                  <th scope=\"col\">C</th>\n",
    "                </tr>\n",
    "              </thead>\n",
    "              <tbody>\n",
    "                <tr>\n",
    "                  <th scope=\"row\">1</th>\n",
    "                  <td>4</td>\n",
    "                  <td>1</td>\n",
    "                  <td>2</td>\n",
    "                </tr>\n",
    "                <tr>\n",
    "                  <th scope=\"row\">2</th>\n",
    "                  <td>1</td>\n",
    "                  <td>3</td>\n",
    "                  <td>5</td>\n",
    "                </tr>\n",
    "                <tr>\n",
    "                  <th scope=\"row\">3</th>\n",
    "                  <td>2</td>\n",
    "                  <td>0</td>\n",
    "                  <td>5</td>\n",
    "                </tr>\n",
    "              </tbody>\n",
    "            </table>\n",
    "        </div>\n",
    "        <div class=\"col\">\n",
    "            <img class=\"mx-auto\" src=\"lexicase.svg\" alt=\"Lexicase selection decisions tree\" width=100%/> \n",
    "        </div>\n",
    "    </div>\n",
    "    <p style=\"text-align:center\">Spatially heterogeneous meta-community with unlimited dispersal and intense competitive exclusion.</p>\n",
    "    <p class=\"image_credit\">Spector et al, 2012</p>\n",
    "\n",
    "</div>"
   ]
  },
  {
   "cell_type": "markdown",
   "metadata": {
    "slideshow": {
     "slide_type": "slide"
    }
   },
   "source": [
    "## What do these communities look like?"
   ]
  },
  {
   "cell_type": "code",
   "execution_count": 30,
   "metadata": {
    "slideshow": {
     "slide_type": "notes"
    }
   },
   "outputs": [],
   "source": [
    "# Create population\n",
    "\n",
    "\n",
    "def make_pop(size=10, length=5):\n",
    "    pop = []\n",
    "    for _ in range(size):\n",
    "        # Geometric distribution makes it rare to be particularly good at an axis, to simulate\n",
    "        # a population occupying a diversity of niches (as you would expect to evolve under\n",
    "        # these selection schemes)\n",
    "        pop.append(tuple([np.random.geometric(.5) for i in range(length)]))\n",
    "    return pop\n",
    "\n",
    "def lexicase_fitness(orgs, **kwargs):\n",
    "    \"\"\"\n",
    "    Calculate the biological fitness of each org in orgs (a list of lists of ints, \n",
    "    where each inner list is an org) under lexicase selection.\n",
    "    \n",
    "    Returns - a dictionary mapping orgs (lists of ints) to fitnesses\n",
    "    \"\"\"\n",
    "    fitnesses = {org:0.0 for org in orgs}\n",
    "\n",
    "    # Iterate over all possible orderings of fitness functions\n",
    "    # and count up the number that each org wins\n",
    "    for order in itertools.permutations(range(len(orgs[0]))): \n",
    "        remaining = orgs[:]\n",
    "        \n",
    "        # Find best individuals for each axis\n",
    "        for axis in order:\n",
    "            best = 0\n",
    "            winners = []\n",
    "            for i in range(len(remaining)):\n",
    "                if remaining[i][axis] > remaining[best][axis]:\n",
    "                    best = i\n",
    "                    winners = [remaining[i]]\n",
    "                elif remaining[i][axis] == remaining[best][axis]:\n",
    "                    winners.append(remaining[i])\n",
    "            remaining = winners\n",
    "            if len(remaining) == 1:\n",
    "                break\n",
    "        for org in remaining:\n",
    "            fitnesses[org] += 1.0/len(remaining) # handle ties\n",
    "    \n",
    "    for org in orgs:\n",
    "        fitnesses[org] /= math.factorial(len(orgs[0])) # convert to proportion of \"islands\"\n",
    "        \n",
    "    return fitnesses\n",
    "\n",
    "def eco_ea_fitness(orgs, cost=1, cf=.0025, niche_width=3, **kwargs):\n",
    "    \"\"\"\n",
    "    Calculate the biological fitness of each org in orgs (a list of lists of ints, \n",
    "    where each inner list is an org) under Eco-EA.\n",
    "    \n",
    "    Optional arguments:\n",
    "    cost - the cost of attempting to do a task\n",
    "    cf - fraction of existing resource consumed\n",
    "    niche_width - how well do you have to do on a task in order to consume resource/pay cost?\n",
    "    \n",
    "    Returns - a dictionary mapping orgs (lists of ints) to fitnesses\n",
    "    \"\"\"\n",
    "    \n",
    "    if \"cost\" in kwargs:\n",
    "        cost = kwargs[\"cost\"]\n",
    "    if \"cf\" in kwargs:\n",
    "        cf = kwargs[\"cf\"]\n",
    "    if \"niche_width\" in kwargs:\n",
    "        niche_width = kwargs[\"niche_width\"]\n",
    "    \n",
    "    fitnesses = {org:1.0 for org in orgs}\n",
    "    rel_fitnesses = {org:0.0 for org in orgs}\n",
    "    \n",
    "    for axis in range(len(orgs[0])):\n",
    "        res = 2000\n",
    "        count = 0\n",
    "        for org in orgs:\n",
    "            if org[axis] >= 3:\n",
    "                count += 1\n",
    "        if count > 0:\n",
    "            res /= count # We're ignoring resource accumulation, but that won't affect interactions\n",
    "        for org in orgs:\n",
    "            if org[axis] >= niche_width:\n",
    "                fitnesses[org] *= 2**((cf*res*(org[axis]/5.0)**2) - cost) # division by 5 normalizes score for\n",
    "                                                                          # consistency, though unecesary here\n",
    "    \n",
    "    # Calculate biological fitness, now that we've adjusted fitness scores by resoure use\n",
    "    for org in orgs: \n",
    "        wins = 0\n",
    "        ties = -1 #org will tie with itself\n",
    "        fit = fitnesses[org]\n",
    "        for val in fitnesses.values():\n",
    "            if fit > val:\n",
    "                wins += 1\n",
    "            elif fit == val:\n",
    "                ties += 1\n",
    "        rel_fitnesses[org] = (2/len(orgs)) * (wins/(len(orgs) - 1) + .5*ties/(len(orgs) - 1))\n",
    "        # assumes tournament size of 2\n",
    "        \n",
    "    return rel_fitnesses\n",
    "\n",
    "\n",
    "def sharing_fitness(orgs, sigma_share=8, alpha = 1, **kwargs):\n",
    "    \"\"\"\n",
    "    Calculate the biological fitness of each org in orgs (a list of lists of ints, \n",
    "    where each inner list is an org) under fitness sharing.\n",
    "    \n",
    "    Optional arguments:\n",
    "    sigma_share - sharing threshold\n",
    "    a - determines shape of sharing function\n",
    "    \n",
    "    Returns - a dictionary mapping orgs (lists of ints) to fitnesses\n",
    "    \"\"\"\n",
    "    \n",
    "    if \"sigma_share\" in kwargs:\n",
    "        sigma_share = kwargs[\"sigma_share\"]\n",
    "    if \"alpha\" in kwargs:\n",
    "        alpha = kwargs[\"alpha\"]\n",
    "        \n",
    "    fitnesses = {org:1.0 for org in orgs}\n",
    "    rel_fitnesses = {org:0.0 for org in orgs}\n",
    "    \n",
    "    for org in orgs:\n",
    "        niche_count = 0.0\n",
    "        for org2 in orgs:\n",
    "            # Use Euclidean distance between vectors as sharing function\n",
    "            dist = sp.spatial.distance.euclidean(org, org2)\n",
    "            if dist < sigma_share:\n",
    "                niche_count += 1 - (dist/sigma_share)**alpha\n",
    "        fit = sum(org)\n",
    "        fit /= niche_count\n",
    "        fitnesses[org] = fit\n",
    "\n",
    "    # Noe that we've adjusted for sharing, calculate biological fitness\n",
    "    for org in orgs:\n",
    "        less = 0.0\n",
    "        equal = 0.0\n",
    "        greater = 0.0\n",
    "        \n",
    "        for org2 in orgs:\n",
    "            if fitnesses[org2] < fitnesses[org]:\n",
    "                less += 1\n",
    "            elif fitnesses[org2] == fitnesses[org]:\n",
    "                equal += 1\n",
    "            else:\n",
    "                greater += 1\n",
    "                \n",
    "        p_less = less/len(orgs)\n",
    "        p_equal = equal/len(orgs)\n",
    "        p_greater = greater/len(orgs)\n",
    "        \n",
    "        p_success = (2.0/len(orgs) * p_less) + (1.0/len(orgs) * p_equal)\n",
    "        \n",
    "        rel_fitnesses[org] = p_success\n",
    "        \n",
    "    return rel_fitnesses\n",
    "\n",
    "\n",
    "def calc_competition(orgs, fit_fun, **kwargs):\n",
    "    \"\"\"\n",
    "    Calculates the competition between individuals in orgs under the selection scheme\n",
    "    described by fit_fun.\n",
    "    \n",
    "    Inputs:\n",
    "    - Orgs is a list of whatever type fit_fun is expecting to operate on.\n",
    "    - fit_fun should take a list of orgs and return a dicitionary of their fitness functions.\n",
    "    \n",
    "    Returns a dictionary of dictionaries of dictionaries (the input type expected by networkx)\n",
    "    indicating the fitness effects of the org from the inner dictionary on the org from the outer\n",
    "    dictionary. The innermost dictionary has at most a single value, weight, indicating the\n",
    "    dtrength and direction of the interaction.\n",
    "    \"\"\"\n",
    "    # Calculate fitnesses in context of the whole population\n",
    "    fitnesses = fit_fun(orgs, **kwargs)\n",
    "    \n",
    "    effects = {o:{} for o in orgs}\n",
    "    \n",
    "    # Iterate over population, removing each org in turn and\n",
    "    # calculting the fitnesses of the others in its absence.\n",
    "    for org in orgs:\n",
    "        curr = orgs[:]\n",
    "        curr.remove(org)\n",
    "        curr.append(tuple([0 for i in org]))\n",
    "\n",
    "        new_fits = fit_fun(curr)\n",
    "        \n",
    "        for adj_org in orgs:\n",
    "            if adj_org not in new_fits:\n",
    "                continue\n",
    "            if fitnesses[adj_org] - new_fits[adj_org] != 0:\n",
    "                effects[org][adj_org] = {\"weight\":fitnesses[adj_org] - new_fits[adj_org]}\n",
    "            \n",
    "    return effects"
   ]
  },
  {
   "cell_type": "code",
   "execution_count": 31,
   "metadata": {
    "slideshow": {
     "slide_type": "notes"
    }
   },
   "outputs": [],
   "source": [
    "def make_interaction_graph(population=10, traits=5, sigma_share=8):\n",
    "    pop = make_pop(population, traits)\n",
    "    # Calculate interactions under different selection schemes\n",
    "    lex = calc_competition(pop, lexicase_fitness)\n",
    "    eco = calc_competition(pop, eco_ea_fitness)\n",
    "    share = calc_competition(pop, sharing_fitness)\n",
    "\n",
    "    # Extract weights so we can scale graphs appropriately\n",
    "    weights = []\n",
    "    for key in lex:\n",
    "        for key2 in lex[key]:\n",
    "            weights.extend(lex[key][key2].values())\n",
    "    for key in eco:\n",
    "        for key2 in eco[key]:\n",
    "            weights.extend(eco[key][key2].values())\n",
    "    for key in share:\n",
    "        for key2 in share[key]:\n",
    "            weights.extend(share[key][key2].values())\n",
    "\n",
    "    global_vmin = min(weights)\n",
    "    global_vmax = max(weights)\n",
    "\n",
    "    if abs(global_vmin) > abs(global_vmax):\n",
    "        global_vmax = abs(global_vmin)\n",
    "    else:\n",
    "        global_vmin = -1*global_vmax\n",
    "        \n",
    "    fig = plt.figure(figsize=(15, 4.5))\n",
    "    \n",
    "    # Lexicase\n",
    "    lex_g = nx.DiGraph()\n",
    "    lex_g = nx.from_dict_of_dicts(lex, create_using=lex_g)\n",
    "    lex_fitness_dict = lexicase_fitness(pop)\n",
    "    lex_nodes = [lex_fitness_dict[node] for node in lex_g.nodes]\n",
    "    lex_e=[d[\"weight\"] for (u,v,d) in lex_g.edges(data=True)] # colors\n",
    "    lex_widths=[abs(d['weight'])*40 for (u,v,d) in lex_g.edges(data=True)] #linewidths\n",
    "\n",
    "    # Eco-EA\n",
    "    eco_g = nx.DiGraph()\n",
    "    eco_g = nx.from_dict_of_dicts(eco, create_using=eco_g)\n",
    "\n",
    "    eco_ea_fitness_dict = eco_ea_fitness(pop)\n",
    "\n",
    "    eco_nodes = [eco_ea_fitness_dict[node] for node in eco_g.nodes]\n",
    "    eco_e=[d[\"weight\"]*4 for (u,v,d) in eco_g.edges(data=True)] # we have to increase color intensity to see lines because\n",
    "                                                            # lexicase has such stronger interactions\n",
    "    eco_widths=[abs(d['weight'])*60 for (u,v,d) in eco_g.edges(data=True)] # edge widths are consistent across graphs\n",
    "    \n",
    "    # Fitness sharing\n",
    "    share_g = nx.DiGraph()\n",
    "    share_g = nx.from_dict_of_dicts(share, create_using=share_g)\n",
    "\n",
    "    sharing_fitness_dict = sharing_fitness(pop)\n",
    "\n",
    "    share_nodes = [sharing_fitness_dict[node] for node in share_g.nodes]\n",
    "    share_e=[d[\"weight\"] * 4 for (u,v,d) in share_g.edges(data=True)]\n",
    "    share_widths=[abs(d['weight'])*60 for (u,v,d) in share_g.edges(data=True)]\n",
    "\n",
    "    node_vmax = max(lex_nodes+eco_nodes+share_nodes)\n",
    "    node_vmin = min(lex_nodes+eco_nodes+share_nodes)\n",
    "\n",
    "    \n",
    "    plt.subplot(131)\n",
    "    \n",
    "    nx.draw_shell(lex_g, vmax=node_vmax, vmin=node_vmin, node_color=lex_nodes, cmap=matplotlib.cm.copper, node_size=100, edge_color=lex_e, edge_vmin=global_vmin, edge_vmax=global_vmax,edge_cmap=matplotlib.cm.seismic_r, width=lex_widths, with_labels=False)\n",
    "    plt.title(\"Lexicase\", fontsize=30)\n",
    "\n",
    "    \n",
    "    plt.subplot(132)\n",
    "    #e=[\"red\" if d['weight'] < 0 else \"blue\" for (u,v,d) in eco_g.edges(data=True)]\n",
    "\n",
    "    nx.draw_shell(eco_g, vmax=node_vmax, vmin=node_vmin, edge_cmap=matplotlib.cm.seismic_r, cmap=matplotlib.cm.copper, node_color=eco_nodes, node_size=100, width=eco_widths, edge_vmin=global_vmin, edge_vmax=global_vmax, edge_color=eco_e, with_labels=False)\n",
    "    plt.title(\"Eco-EA\", fontsize=30)\n",
    "\n",
    "\n",
    "    #e=[\"red\" if d['weight'] < 0 else \"blue\" for (u,v,d) in share_g.edges(data=True)]\n",
    "    plt.subplot(133)\n",
    "    nx.draw_shell(share_g, vmax=node_vmax, vmin=node_vmin, node_size=100, node_color=share_nodes, edge_color=share_e, cmap=matplotlib.cm.copper,edge_cmap=matplotlib.cm.seismic_r, edge_vmin=global_vmin, edge_vmax=global_vmax, width=share_widths, with_labels=False)\n",
    "    plt.title(\"Sharing\", fontsize=30)\n",
    "    \n",
    "    cmap = matplotlib.cm.copper\n",
    "    norm = matplotlib.colors.Normalize(vmin=node_vmin, vmax=node_vmax)\n",
    "\n",
    "    plt.subplots_adjust(right=.9)\n",
    "    cbar_ax = fig.add_axes([0.95, 0.15, 0.02, 0.7])\n",
    "\n",
    "    cb1 = matplotlib.colorbar.ColorbarBase(cbar_ax, cmap=cmap,\n",
    "                                    norm=norm,\n",
    "                                    orientation='vertical')\n",
    "    cb1.set_label('Fitness')\n"
   ]
  },
  {
   "cell_type": "code",
   "execution_count": 39,
   "metadata": {
    "hideCode": false,
    "hidePrompt": true,
    "slideshow": {
     "slide_type": "skip"
    }
   },
   "outputs": [],
   "source": [
    "style = {'description_width': 'initial'}\n",
    "layout = widgets.Layout(\n",
    "    display='flex',\n",
    "    flex_flow='row',\n",
    "    flex_grow=1,\n",
    "    justify_content='space-between'\n",
    ")\n",
    "\n",
    "a = widgets.IntSlider(layout=layout, description = \"Population size\", style=style, min=1, max=20, value=10, orientation=\"horizontal\")\n",
    "b = widgets.IntSlider(layout=layout, description = \"N Traits\", style=style, min=1, max=10, value=5, orientation=\"horizontal\")\n",
    "c = widgets.FloatSlider(layout=layout, description = \"Sharing threshold\", style=style, min=0.0, max=20.0, value=8.0, orientation=\"horizontal\")\n",
    "\n",
    "ui = widgets.VBox([a, b,c], layout=widgets.Layout(\n",
    "    display='flex',\n",
    "    flex_grow = 1,\n",
    "    align_items='stretch',\n",
    "#     width='50%'\n",
    "))\n",
    "\n"
   ]
  },
  {
   "cell_type": "code",
   "execution_count": 13,
   "metadata": {
    "hideCode": true,
    "hideOutput": false,
    "hidePrompt": true
   },
   "outputs": [
    {
     "data": {
      "application/vnd.jupyter.widget-view+json": {
       "model_id": "817e227d0cf1437ebb3428762f043a1f",
       "version_major": 2,
       "version_minor": 0
      },
      "text/html": [
       "<p>Failed to display Jupyter Widget of type <code>VBox</code>.</p>\n",
       "<p>\n",
       "  If you're reading this message in the Jupyter Notebook or JupyterLab Notebook, it may mean\n",
       "  that the widgets JavaScript is still loading. If this message persists, it\n",
       "  likely means that the widgets JavaScript library is either not installed or\n",
       "  not enabled. See the <a href=\"https://ipywidgets.readthedocs.io/en/stable/user_install.html\">Jupyter\n",
       "  Widgets Documentation</a> for setup instructions.\n",
       "</p>\n",
       "<p>\n",
       "  If you're reading this message in another frontend (for example, a static\n",
       "  rendering on GitHub or <a href=\"https://nbviewer.jupyter.org/\">NBViewer</a>),\n",
       "  it may mean that your frontend doesn't currently support widgets.\n",
       "</p>\n"
      ],
      "text/plain": [
       "VBox(children=(Output(), VBox(children=(IntSlider(value=10, description='Population size', layout=Layout(display='flex', flex_flow='row', justify_content='space-between'), max=20, min=1, style=SliderStyle(description_width='initial')), IntSlider(value=5, description='N Traits', layout=Layout(display='flex', flex_flow='row', justify_content='space-between'), max=10, min=1, style=SliderStyle(description_width='initial')), FloatSlider(value=8.0, description='Sharing threshold', layout=Layout(display='flex', flex_flow='row', justify_content='space-between'), max=20.0, style=SliderStyle(description_width='initial'))), layout=Layout(align_items='stretch', display='flex'))), layout=Layout(align_items='center', justify_content='center', width='100%'))"
      ]
     },
     "metadata": {},
     "output_type": "display_data"
    }
   ],
   "source": [
    "w = widgets.interactive_output(make_interaction_graph, {\"population\":a, \"traits\":b, \"sigma_share\":c})\n",
    "\n",
    "widgets.VBox([w, ui], layout=widgets.Layout(align_items=\"center\", justify_content=\"center\", flex_grow=1, width=\"100%\"))\n"
   ]
  },
  {
   "cell_type": "markdown",
   "metadata": {
    "slideshow": {
     "slide_type": "slide"
    }
   },
   "source": [
    "## What are the long term evolutionary effects?\n",
    "<div class=\"container\">\n",
    "    \n",
    "    <img class=\"mx-auto\" src=\"figs/time_all.png\" alt=\"Phylogenetic diversity over time\" width=100%/> \n",
    "\n",
    "</div>"
   ]
  },
  {
   "cell_type": "markdown",
   "metadata": {
    "slideshow": {
     "slide_type": "slide"
    }
   },
   "source": [
    "## Conclusions\n",
    "\n",
    "- Importing ecological theory into EC can help solve problems\n",
    "- EC is a trove of eco-evolutionary dynamics data"
   ]
  },
  {
   "cell_type": "markdown",
   "metadata": {
    "slideshow": {
     "slide_type": "slide"
    }
   },
   "source": [
    "## Questions?\n",
    "\n",
    "<div class=\"container\">\n",
    "    \n",
    "    <img class=\"mx-auto\" src=\"full_2691.jpg\" alt=\"Computer generated tree\" width=\"50%\"/> \n",
    "\n",
    "    <p class=\"image_credit\">Image credit: \n",
    "        <a href=\"https://www.contextfreeart.org/gallery2/#design/2691\"> Context Free Art user jwmatthysn\n",
    "        </a>\n",
    "    </p>\n",
    "\n",
    "            <p style=\"text-align:center\"><i class=\"fab fa-twitter\"></i>@emilyldolson &nbsp;&nbsp;&nbsp;&nbsp;\n",
    "            <i class=\"fas fa-envelope\"></i>dolsonem@msu.edu</p>\n",
    "\n",
    "\n",
    "</div>\n"
   ]
  }
 ],
 "metadata": {
  "celltoolbar": "Hide code",
  "kernelspec": {
   "display_name": "Python 3",
   "language": "python",
   "name": "python3"
  },
  "language_info": {
   "codemirror_mode": {
    "name": "ipython",
    "version": 3
   },
   "file_extension": ".py",
   "mimetype": "text/x-python",
   "name": "python",
   "nbconvert_exporter": "python",
   "pygments_lexer": "ipython3",
   "version": "3.6.4"
  },
  "rise": {
   "auto_select": "none",
   "theme": "white",
   "transition": "slide"
  }
 },
 "nbformat": 4,
 "nbformat_minor": 2
}
