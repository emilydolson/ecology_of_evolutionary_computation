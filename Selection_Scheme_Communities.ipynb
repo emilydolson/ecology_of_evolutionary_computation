{
 "cells": [
  {
   "cell_type": "code",
   "execution_count": 465,
   "metadata": {},
   "outputs": [],
   "source": [
    "import pandas as pd\n",
    "import seaborn as sns\n",
    "import random\n",
    "import itertools\n",
    "import math\n",
    "import numpy as np\n",
    "import networkx as nx\n",
    "import matplotlib\n",
    "import matplotlib.pyplot as plt\n",
    "import scipy as sp\n",
    "from mpl_toolkits.axes_grid1 import AxesGrid\n",
    "%matplotlib inline"
   ]
  },
  {
   "cell_type": "code",
   "execution_count": 434,
   "metadata": {},
   "outputs": [
    {
     "data": {
      "image/png": "[encoded data removed]",
      "text/plain": [
       "<matplotlib.figure.Figure at 0x7fdef8bd6dd8>"
      ]
     },
     "metadata": {},
     "output_type": "display_data"
    }
   ],
   "source": [
    "sns.palplot(sns.diverging_palette(240, 20, s=99, n=6))"
   ]
  },
  {
   "cell_type": "code",
   "execution_count": 329,
   "metadata": {},
   "outputs": [],
   "source": [
    "# From https://stackoverflow.com/questions/7404116/defining-the-midpoint-of-a-colormap-in-matplotlib\n",
    "\n",
    "def shiftedColorMap(cmap, start=0, midpoint=0.5, stop=1.0, name='shiftedcmap'):\n",
    "    '''\n",
    "    Function to offset the \"center\" of a colormap. Useful for\n",
    "    data with a negative min and positive max and you want the\n",
    "    middle of the colormap's dynamic range to be at zero\n",
    "\n",
    "    Input\n",
    "    -----\n",
    "      cmap : The matplotlib colormap to be altered\n",
    "      start : Offset from lowest point in the colormap's range.\n",
    "          Defaults to 0.0 (no lower ofset). Should be between\n",
    "          0.0 and `midpoint`.\n",
    "      midpoint : The new center of the colormap. Defaults to \n",
    "          0.5 (no shift). Should be between 0.0 and 1.0. In\n",
    "          general, this should be  1 - vmax/(vmax + abs(vmin))\n",
    "          For example if your data range from -15.0 to +5.0 and\n",
    "          you want the center of the colormap at 0.0, `midpoint`\n",
    "          should be set to  1 - 5/(5 + 15)) or 0.75\n",
    "      stop : Offset from highets point in the colormap's range.\n",
    "          Defaults to 1.0 (no upper ofset). Should be between\n",
    "          `midpoint` and 1.0.\n",
    "    '''\n",
    "    cdict = {\n",
    "        'red': [],\n",
    "        'green': [],\n",
    "        'blue': [],\n",
    "        'alpha': []\n",
    "    }\n",
    "\n",
    "    # regular index to compute the colors\n",
    "    reg_index = np.linspace(start, stop, 257)\n",
    "\n",
    "    # shifted index to match the data\n",
    "    shift_index = np.hstack([\n",
    "        np.linspace(0.0, midpoint, 128, endpoint=False), \n",
    "        np.linspace(midpoint, 1.0, 129, endpoint=True)\n",
    "    ])\n",
    "\n",
    "    for ri, si in zip(reg_index, shift_index):\n",
    "        r, g, b, a = cmap(ri)\n",
    "\n",
    "        cdict['red'].append((si, r, r))\n",
    "        cdict['green'].append((si, g, g))\n",
    "        cdict['blue'].append((si, b, b))\n",
    "        cdict['alpha'].append((si, a, a))\n",
    "\n",
    "    newcmap = matplotlib.colors.LinearSegmentedColormap(name, cdict)\n",
    "    plt.register_cmap(cmap=newcmap)\n",
    "\n",
    "    return newcmap\n",
    "\n",
    "cm = matplotlib.cm.seismic\n",
    "diverging_cmap = shiftedColorMap(cm, start = -1, midpoint=0, stop = 1)"
   ]
  },
  {
   "cell_type": "code",
   "execution_count": null,
   "metadata": {},
   "outputs": [],
   "source": []
  },
  {
   "cell_type": "code",
   "execution_count": 265,
   "metadata": {},
   "outputs": [],
   "source": [
    "POP_SIZE = 10\n",
    "UPDATES = 100\n",
    "GENOME_LENGTH = 5\n",
    "\n",
    "#data = pd.DataFrame()\n",
    "\n",
    "\n",
    "pop = []\n",
    "for _ in range(POP_SIZE):\n",
    "    pop.append(tuple([np.random.geometric(.5) for i in range(GENOME_LENGTH)]))\n"
   ]
  },
  {
   "cell_type": "code",
   "execution_count": 266,
   "metadata": {},
   "outputs": [],
   "source": [
    "def lexicase_fitness(orgs):\n",
    "    fitnesses = {org:0.0 for org in orgs}\n",
    "    for order in itertools.permutations(range(len(orgs[0]))):\n",
    "        remaining = orgs[:]\n",
    "        for axis in order:\n",
    "            best = 0\n",
    "            winners = []\n",
    "            for i in range(len(remaining)):\n",
    "                if remaining[i][axis] > remaining[best][axis]:\n",
    "                    best = i\n",
    "                    winners = [remaining[i]]\n",
    "                elif remaining[i][axis] == remaining[best][axis]:\n",
    "                    winners.append(remaining[i])\n",
    "            remaining = winners\n",
    "            if len(remaining) == 1:\n",
    "                break\n",
    "        for org in remaining:\n",
    "            fitnesses[org] += 1.0/len(remaining)\n",
    "    \n",
    "    for org in orgs:\n",
    "        fitnesses[org] /= math.factorial(len(orgs[0]))\n",
    "        \n",
    "    return fitnesses"
   ]
  },
  {
   "cell_type": "code",
   "execution_count": 267,
   "metadata": {},
   "outputs": [
    {
     "data": {
      "text/plain": [
       "{(1, 1, 2, 2, 1): 0.0,\n",
       " (1, 1, 4, 1, 1): 0.0,\n",
       " (1, 1, 5, 2, 5): 0.2,\n",
       " (1, 1, 5, 4, 1): 0.0,\n",
       " (1, 1, 8, 5, 1): 0.4,\n",
       " (1, 5, 2, 1, 2): 0.0,\n",
       " (1, 10, 3, 4, 1): 0.2,\n",
       " (2, 1, 2, 2, 1): 0.0,\n",
       " (2, 3, 1, 1, 1): 0.0,\n",
       " (3, 1, 1, 1, 1): 0.2}"
      ]
     },
     "execution_count": 267,
     "metadata": {},
     "output_type": "execute_result"
    }
   ],
   "source": [
    "lexicase_fitness(pop)"
   ]
  },
  {
   "cell_type": "code",
   "execution_count": 268,
   "metadata": {},
   "outputs": [],
   "source": [
    "def eco_ea_fitness(orgs):\n",
    "    fitnesses = {org:1.0 for org in orgs}\n",
    "    rel_fitnesses = {org:0.0 for org in orgs}\n",
    "    \n",
    "    for axis in range(len(orgs[0])):\n",
    "        res = 2000\n",
    "        count = 0\n",
    "        for org in orgs:\n",
    "            if org[axis] >= 3:\n",
    "                count += 1\n",
    "        if count > 0:\n",
    "            res /= count\n",
    "        for org in orgs:\n",
    "            if org[axis] >= 3:\n",
    "                fitnesses[org] *= 2**((.0025*res*(org[axis]/5.0)**2) - 1)\n",
    "                #print(axis, org, 2**((.0025*res*(org[axis]/5.0)**2) - 1))\n",
    "                \n",
    "    for org in orgs:\n",
    "        wins = 0\n",
    "        ties = -1 #org will tie with itself\n",
    "        fit = fitnesses[org]\n",
    "        for val in fitnesses.values():\n",
    "            if fit > val:\n",
    "                wins += 1\n",
    "            elif fit == val:\n",
    "                ties += 1\n",
    "        rel_fitnesses[org] = (2/len(orgs)) * (wins/(len(orgs) - 1) + .5*ties/(len(orgs) - 1))\n",
    "        \n",
    "    return rel_fitnesses\n",
    "        \n",
    "        "
   ]
  },
  {
   "cell_type": "code",
   "execution_count": 370,
   "metadata": {},
   "outputs": [],
   "source": [
    "\n",
    "def sharing_fitness(orgs, sigma_share=2, alpha = 1):\n",
    "    \n",
    "    fitnesses = {org:1.0 for org in orgs}\n",
    "    rel_fitnesses = {org:0.0 for org in orgs}\n",
    "    \n",
    "    for org in orgs:\n",
    "        niche_count = 0.0\n",
    "        for org2 in orgs:\n",
    "            dist = sp.spatial.distance.euclidean(org, org2)\n",
    "            if dist < sigma_share:\n",
    "                niche_count += 1 - (dist/sigma_share)**alpha\n",
    "        fit = sum(org)\n",
    "        fit /= niche_count\n",
    "        fitnesses[org] = fit\n",
    "        \n",
    "    for org in orgs:\n",
    "        less = 0.0\n",
    "        equal = 0.0\n",
    "        greater = 0.0\n",
    "        \n",
    "        for org2 in orgs:\n",
    "            if fitnesses[org2] < fitnesses[org]:\n",
    "                less += 1\n",
    "            elif fitnesses[org2] == fitnesses[org]:\n",
    "                equal += 1\n",
    "            else:\n",
    "                greater += 1\n",
    "                \n",
    "        p_less = less/len(orgs)\n",
    "        p_equal = equal/len(orgs)\n",
    "        p_greater = greater/len(orgs)\n",
    "        \n",
    "        p_success = (2.0/len(orgs) * p_less) + (1.0/len(orgs) * p_equal)\n",
    "        \n",
    "        rel_fitnesses[org] = p_success\n",
    "        \n",
    "    return rel_fitnesses\n",
    "        \n",
    "    \n",
    "        \n",
    "    "
   ]
  },
  {
   "cell_type": "code",
   "execution_count": 270,
   "metadata": {},
   "outputs": [
    {
     "data": {
      "text/plain": [
       "{(1, 1, 2, 2, 1): 0.05555555555555556,\n",
       " (1, 1, 4, 1, 1): 0.022222222222222223,\n",
       " (1, 1, 5, 2, 5): 0.17777777777777778,\n",
       " (1, 1, 5, 4, 1): 0.08888888888888889,\n",
       " (1, 1, 8, 5, 1): 0.15555555555555556,\n",
       " (1, 5, 2, 1, 2): 0.11111111111111112,\n",
       " (1, 10, 3, 4, 1): 0.2,\n",
       " (2, 1, 2, 2, 1): 0.05555555555555556,\n",
       " (2, 3, 1, 1, 1): 0.0,\n",
       " (3, 1, 1, 1, 1): 0.13333333333333333}"
      ]
     },
     "execution_count": 270,
     "metadata": {},
     "output_type": "execute_result"
    }
   ],
   "source": [
    "eco_ea_fitness(pop)"
   ]
  },
  {
   "cell_type": "code",
   "execution_count": 271,
   "metadata": {},
   "outputs": [
    {
     "data": {
      "text/plain": [
       "{(1, 1, 2, 2, 1): 0.0,\n",
       " (1, 1, 4, 1, 1): 0.0,\n",
       " (1, 1, 5, 2, 5): 0.2,\n",
       " (1, 1, 5, 4, 1): 0.0,\n",
       " (1, 1, 8, 5, 1): 0.4,\n",
       " (1, 5, 2, 1, 2): 0.0,\n",
       " (1, 10, 3, 4, 1): 0.2,\n",
       " (2, 1, 2, 2, 1): 0.0,\n",
       " (2, 3, 1, 1, 1): 0.0,\n",
       " (3, 1, 1, 1, 1): 0.2}"
      ]
     },
     "execution_count": 271,
     "metadata": {},
     "output_type": "execute_result"
    }
   ],
   "source": [
    "lexicase_fitness(pop)"
   ]
  },
  {
   "cell_type": "code",
   "execution_count": 359,
   "metadata": {},
   "outputs": [
    {
     "data": {
      "text/plain": [
       "{(1, 1, 2, 2, 1): 0.010000000000000002,\n",
       " (1, 1, 4, 1, 1): 0.07,\n",
       " (1, 1, 5, 2, 5): 0.15,\n",
       " (1, 1, 5, 4, 1): 0.13,\n",
       " (1, 1, 8, 5, 1): 0.17000000000000004,\n",
       " (1, 5, 2, 1, 2): 0.11000000000000001,\n",
       " (1, 10, 3, 4, 1): 0.19000000000000003,\n",
       " (2, 1, 2, 2, 1): 0.05000000000000001,\n",
       " (2, 3, 1, 1, 1): 0.09000000000000002,\n",
       " (3, 1, 1, 1, 1): 0.030000000000000006}"
      ]
     },
     "execution_count": 359,
     "metadata": {},
     "output_type": "execute_result"
    }
   ],
   "source": [
    "sharing_fitness(pop, 10)"
   ]
  },
  {
   "cell_type": "code",
   "execution_count": 355,
   "metadata": {},
   "outputs": [
    {
     "data": {
      "text/plain": [
       "[0.030000000000000006,\n",
       " 0.07,\n",
       " 0.11000000000000001,\n",
       " 0.010000000000000002,\n",
       " 0.15,\n",
       " 0.19000000000000003,\n",
       " 0.05000000000000001,\n",
       " 0.13,\n",
       " 0.17000000000000004,\n",
       " 0.09000000000000002]"
      ]
     },
     "execution_count": 355,
     "metadata": {},
     "output_type": "execute_result"
    }
   ],
   "source": []
  },
  {
   "cell_type": "code",
   "execution_count": 273,
   "metadata": {},
   "outputs": [],
   "source": [
    "def calc_competition(orgs, fit_fun):\n",
    "    fitnesses = fit_fun(orgs)\n",
    "    \n",
    "    effects = {o:{} for o in orgs}\n",
    "    \n",
    "    for org in orgs:\n",
    "        curr = orgs[:]\n",
    "        curr.remove(org)\n",
    "        curr.append((0,0,0,0,0))\n",
    "\n",
    "        new_fits = fit_fun(curr)\n",
    "        \n",
    "        for adj_org in orgs:\n",
    "            if adj_org not in new_fits:\n",
    "                continue\n",
    "            if fitnesses[adj_org] - new_fits[adj_org] != 0:\n",
    "                effects[org][adj_org] = {\"weight\":fitnesses[adj_org] - new_fits[adj_org]}\n",
    "            \n",
    "    return effects"
   ]
  },
  {
   "cell_type": "code",
   "execution_count": 384,
   "metadata": {},
   "outputs": [],
   "source": [
    "lex = calc_competition(pop, lexicase_fitness)\n",
    "\n",
    "eco = calc_competition(pop, eco_ea_fitness)\n",
    "\n",
    "share = calc_competition(pop, sharing_fitness)\n",
    "\n",
    "weights = []\n",
    "for key in lex:\n",
    "    for key2 in lex[key]:\n",
    "        weights.extend(lex[key][key2].values())\n",
    "for key in eco:\n",
    "    for key2 in eco[key]:\n",
    "        weights.extend(eco[key][key2].values())\n",
    "for key in share:\n",
    "    for key2 in share[key]:\n",
    "        weights.extend(share[key][key2].values())\n",
    "\n",
    "global_vmin = min(weights)\n",
    "global_vmax = max(weights)\n",
    "\n",
    "if abs(global_vmin) > abs(global_vmax):\n",
    "    global_vmax = abs(global_vmin)\n",
    "else:\n",
    "    global_vmin = -1*global_vmax"
   ]
  },
  {
   "cell_type": "code",
   "execution_count": 489,
   "metadata": {},
   "outputs": [
    {
     "data": {
      "image/png": "[encoded data removed]",
      "text/plain": [
       "<matplotlib.figure.Figure at 0x7fdedf3c6080>"
      ]
     },
     "metadata": {},
     "output_type": "display_data"
    }
   ],
   "source": [
    "\n",
    "plt.figure(figsize=(7, 2))\n",
    "plt.subplot(131)\n",
    "\n",
    "lex_g = nx.DiGraph()\n",
    "lex_g = nx.from_dict_of_dicts(lex, create_using=lex_g)\n",
    "\n",
    "e=[d[\"weight\"] for (u,v,d) in lex_g.edges(data=True)]\n",
    "\n",
    "widths=[abs(d['weight'])*20 for (u,v,d) in lex_g.edges(data=True)]\n",
    "\n",
    "nx.draw_shell(lex_g, node_color=\"black\", node_size=40, edge_color=e, edge_vmin=global_vmin, edge_vmax=global_vmax,edge_cmap=matplotlib.cm.seismic_r, width=widths, with_labels=False)\n",
    "plt.title(\"Lexicase\")\n",
    "plt.subplot(132)\n",
    "\n",
    "eco_g = nx.DiGraph()\n",
    "eco_g = nx.from_dict_of_dicts(eco, create_using=eco_g)\n",
    "\n",
    "e=[d[\"weight\"]*4 for (u,v,d) in eco_g.edges(data=True)]\n",
    "widths=[abs(d['weight'])*20 for (u,v,d) in eco_g.edges(data=True)]\n",
    "\n",
    "#e=[\"red\" if d['weight'] < 0 else \"blue\" for (u,v,d) in eco_g.edges(data=True)]\n",
    "#print(e)\n",
    "\n",
    "nx.draw_shell(eco_g, edge_cmap=matplotlib.cm.seismic_r, node_size=40, width=widths, edge_vmin=global_vmin, edge_vmax=global_vmax, node_color=\"black\", edge_color=e, with_labels=False)\n",
    "plt.title(\"Eco-EA\")\n",
    "plt.subplot(133)\n",
    "\n",
    "share_g = nx.DiGraph()\n",
    "share_g = nx.from_dict_of_dicts(share, create_using=share_g)\n",
    "\n",
    "e=[d[\"weight\"] * 4 for (u,v,d) in share_g.edges(data=True)]\n",
    "widths=[abs(d['weight'])*20 for (u,v,d) in share_g.edges(data=True)]\n",
    "\n",
    "#e=[\"red\" if d['weight'] < 0 else \"blue\" for (u,v,d) in share_g.edges(data=True)]\n",
    "\n",
    "nx.draw_shell(share_g, node_size=40, node_color=\"black\", edge_color=e, edge_cmap=matplotlib.cm.seismic_r, edge_vmin=global_vmin, edge_vmax=global_vmax, width=widths, with_labels=False)\n",
    "plt.title(\"Sharing\")\n"
   ]
  },
  {
   "cell_type": "code",
   "execution_count": 345,
   "metadata": {},
   "outputs": [
    {
     "data": {
      "text/plain": [
       "[-0.022222222222222213,\n",
       " -0.011111111111111106,\n",
       " -0.011111111111111106,\n",
       " -0.022222222222222227,\n",
       " 0.011111111111111113,\n",
       " 0.011111111111111113,\n",
       " 0.022222222222222223,\n",
       " -0.011111111111111106,\n",
       " -0.011111111111111106,\n",
       " -0.022222222222222227,\n",
       " -0.022222222222222223,\n",
       " -0.022222222222222227,\n",
       " -0.022222222222222213,\n",
       " -0.011111111111111106,\n",
       " -0.011111111111111106,\n",
       " -0.022222222222222227,\n",
       " -0.022222222222222227,\n",
       " 0.022222222222222213,\n",
       " 0.022222222222222223,\n",
       " -0.04444444444444444,\n",
       " -0.011111111111111106,\n",
       " -0.022222222222222227,\n",
       " -0.011111111111111106,\n",
       " -0.04444444444444444,\n",
       " -0.022222222222222227,\n",
       " -0.022222222222222223,\n",
       " -0.011111111111111106,\n",
       " -0.011111111111111106,\n",
       " -0.011111111111111106,\n",
       " -0.011111111111111106,\n",
       " -0.06666666666666667,\n",
       " 0.022222222222222213,\n",
       " 0.022222222222222223,\n",
       " -0.022222222222222213,\n",
       " 0.011111111111111113,\n",
       " 0.011111111111111113]"
      ]
     },
     "execution_count": 345,
     "metadata": {},
     "output_type": "execute_result"
    }
   ],
   "source": []
  },
  {
   "cell_type": "code",
   "execution_count": 278,
   "metadata": {},
   "outputs": [
    {
     "data": {
      "text/plain": [
       "<matplotlib.legend.Legend at 0x7fdefa305c88>"
      ]
     },
     "execution_count": 278,
     "metadata": {},
     "output_type": "execute_result"
    },
    {
     "data": {
      "image/png": "[encoded data removed]",
      "text/plain": [
       "<matplotlib.figure.Figure at 0x7fdefa5e7860>"
      ]
     },
     "metadata": {},
     "output_type": "display_data"
    }
   ],
   "source": [
    "xvals = np.arange(0, 1, .0001)\n",
    "y1 = (1 - (1-xvals)**10)**1000\n",
    "y2 = (1 - (1-xvals)**100)**1000\n",
    "y3 = (1 - (1-xvals)**1000)**1000\n",
    "plt.plot(xvals, y1, label=\"Population size: 10\")\n",
    "plt.plot(xvals, y2, label=\"Population size: 100\")\n",
    "plt.plot(xvals, y3, label=\"Population size: 1000\")\n",
    "plt.legend()"
   ]
  },
  {
   "cell_type": "code",
   "execution_count": 279,
   "metadata": {},
   "outputs": [
    {
     "data": {
      "text/plain": [
       "<matplotlib.legend.Legend at 0x7fdefa202b38>"
      ]
     },
     "execution_count": 279,
     "metadata": {},
     "output_type": "execute_result"
    },
    {
     "data": {
      "image/png": "[encoded data removed]",
      "text/plain": [
       "<matplotlib.figure.Figure at 0x7fdef7cfc5f8>"
      ]
     },
     "metadata": {},
     "output_type": "display_data"
    }
   ],
   "source": [
    "xvals = np.arange(0, 1, .0001)\n",
    "y1 = (1 - (1-xvals)**100)**10\n",
    "y2 = (1 - (1-xvals)**100)**100\n",
    "y3 = (1 - (1-xvals)**100)**1000\n",
    "plt.plot(xvals, y1, label=\"Generations: 10\")\n",
    "plt.plot(xvals, y2, label=\"Generations: 100\")\n",
    "plt.plot(xvals, y3, label=\"Generations: 1000\")\n",
    "plt.legend()"
   ]
  },
  {
   "cell_type": "code",
   "execution_count": 460,
   "metadata": {},
   "outputs": [
    {
     "data": {
      "text/plain": [
       "<matplotlib.legend.Legend at 0x7fdef7d5e160>"
      ]
     },
     "execution_count": 460,
     "metadata": {},
     "output_type": "execute_result"
    },
    {
     "data": {
      "image/png": "[encoded data removed]",
      "text/plain": [
       "<matplotlib.figure.Figure at 0x7fdef8ca8f28>"
      ]
     },
     "metadata": {},
     "output_type": "display_data"
    }
   ],
   "source": [
    "xvals = np.arange(0, .025, .0001)\n",
    "y1 = (1 - (1-xvals)**10)**1000\n",
    "y2 = (1 - (1-xvals)**500)**1000\n",
    "y3 = (1 - (1-xvals)**1000)**1000\n",
    "plt.plot(xvals, y1, label=\"Population size: 10\")\n",
    "plt.plot(xvals, y2, label=\"Population size: 100\")\n",
    "plt.plot(xvals, y3, label=\"Population size: 1000\")\n",
    "plt.legend()"
   ]
  },
  {
   "cell_type": "code",
   "execution_count": null,
   "metadata": {},
   "outputs": [],
   "source": []
  }
 ],
 "metadata": {
  "kernelspec": {
   "display_name": "Python 3",
   "language": "python",
   "name": "python3"
  },
  "language_info": {
   "codemirror_mode": {
    "name": "ipython",
    "version": 3
   },
   "file_extension": ".py",
   "mimetype": "text/x-python",
   "name": "python",
   "nbconvert_exporter": "python",
   "pygments_lexer": "ipython3",
   "version": "3.6.3"
  }
 },
 "nbformat": 4,
 "nbformat_minor": 2
}
